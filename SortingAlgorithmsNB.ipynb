{
 "cells": [
  {
   "cell_type": "markdown",
   "metadata": {},
   "source": [
    "Nb: did the rust implementations first. These in python is a lift of those"
   ]
  },
  {
   "cell_type": "code",
   "execution_count": 9,
   "metadata": {},
   "outputs": [],
   "source": [
    "def insertion_sort(array):\n",
    "    for j in range(1, len(array)):\n",
    "        key = array[j]\n",
    "        i = j\n",
    "        while i > 0 and array[i-1] > key:\n",
    "            array[i] = array[i -1]\n",
    "            i-=1\n",
    "            array[i] = key\n",
    "    return array"
   ]
  },
  {
   "cell_type": "code",
   "execution_count": 30,
   "metadata": {},
   "outputs": [],
   "source": [
    "def merge(array, p,q,r):\n",
    "    n1 = q - p\n",
    "    n2 = r - q\n",
    "\n",
    "    l_array = array[p:q]\n",
    "    r_array = array[q:r]\n",
    "\n",
    "    (i,j,k) = (0,0,p)\n",
    "    while i < n1 and j < n2:\n",
    "        if l_array[i] <= r_array[j]:\n",
    "            array[k] = l_array[i]\n",
    "            i+=1\n",
    "        else:\n",
    "            array[k] = r_array[j]\n",
    "            j+=1\n",
    "        k +=1\n",
    "    \n",
    "    while i < n1:\n",
    "        array[k] = l_array[i]\n",
    "        i+=1\n",
    "        k+=1\n",
    "    \n",
    "    while j < n2:\n",
    "        array[k] = r_array[j]\n",
    "        j+=1\n",
    "        k+=1\n",
    "    \n",
    "\n",
    "def merge_sort(array, p ,r):\n",
    "    if p < r- 1:\n",
    "        q = (r+p)//2\n",
    "        merge_sort(array, p, q)\n",
    "        merge_sort(array, q, r)\n",
    "        merge(array, p,q,r)\n",
    "    \n",
    "    "
   ]
  },
  {
   "cell_type": "code",
   "execution_count": 53,
   "metadata": {},
   "outputs": [],
   "source": [
    "def heapify(array, idx, heapsize):\n",
    "    def left(i): return 2 * i + 1\n",
    "    def right(i): return 2 * i + 2\n",
    "\n",
    "    l = left(idx)\n",
    "    r = right(idx)\n",
    "\n",
    "    largest = idx\n",
    "    if l < heapsize and array[l] > array[idx]:\n",
    "        largest = l\n",
    "    if r < heapsize and array[r] > array[largest]:\n",
    "        largest = r\n",
    "\n",
    "    if largest != idx:\n",
    "        array[idx], array[largest] = array[largest], array[idx]\n",
    "        heapify(array, largest, heapsize)\n",
    "\n",
    "def max_heap(array, heapsize):\n",
    "    for i in reversed(range(0,len(array) // 2)):\n",
    "        heapify(array, i, heapsize)\n",
    "\n",
    "def heapsort(array):\n",
    "    heapsize = len(array)\n",
    "    max_heap(array, heapsize)\n",
    "    for i in reversed(range(1, len(array))):\n",
    "        array[0], array[i] = array[i], array[0]\n",
    "        heapsize -= 1\n",
    "        heapify(array, 0,heapsize)\n"
   ]
  },
  {
   "cell_type": "code",
   "execution_count": 57,
   "metadata": {},
   "outputs": [],
   "source": [
    "\n",
    "def partition(array, low, high):\n",
    "        pivot = array[high]\n",
    "        i = low - 1\n",
    "        for j in range(low, high):\n",
    "            if array[j] < pivot:\n",
    "                i += 1\n",
    "                array[i], array[j] = array[j], array[i]\n",
    "        array[i + 1], array[high] = array[high], array[i + 1]\n",
    "        return i + 1\n",
    "\n",
    "def quick_sort(array,low, high):\n",
    "        if low < high:\n",
    "            par = partition(array, low, high)\n",
    "            quick_sort(array, low, par - 1)\n",
    "            quick_sort(array, par + 1, high)\n",
    "\n"
   ]
  },
  {
   "cell_type": "code",
   "execution_count": null,
   "metadata": {},
   "outputs": [],
   "source": []
  },
  {
   "cell_type": "code",
   "execution_count": 76,
   "metadata": {},
   "outputs": [],
   "source": [
    "import time\n",
    "from random import randint\n",
    "\n",
    "TEST_SIZE = 100\n",
    "\n",
    "\n",
    "\n",
    "def test_insertion_sort():\n",
    "    test_vec = [randint(0,100) for _ in range(TEST_SIZE)]\n",
    "    start = time.time()\n",
    "    insertion_sort(test_vec)\n",
    "    end = time.time()\n",
    "    print(f\"Insertion sort took {end - start} for an array of size {TEST_SIZE}\")\n",
    "\n",
    "def test_merge_sort():\n",
    "    test_vec = [randint(0,100) for _ in range(TEST_SIZE)]\n",
    "    start = time.time()\n",
    "    merge_sort(test_vec, 0 ,len(test_vec))\n",
    "    end = time.time()\n",
    "    print(f\"Merge sort took {end - start} for an array of size {TEST_SIZE}\")\n",
    "\n",
    "def test_heap_sort():\n",
    "    test_vec = [randint(0,100) for _ in range(TEST_SIZE)]\n",
    "    start = time.time()\n",
    "    heapsort(test_vec)\n",
    "    end = time.time()\n",
    "    print(f\"Heap sort took {end- start} for an array of size {TEST_SIZE}\")\n",
    "\n",
    "def test_quick_sort():\n",
    "    test_vec = [randint(0,100) for _ in range(TEST_SIZE)]\n",
    "    start = time.time()\n",
    "    quick_sort(test_vec, 0, len(test_vec)-1)\n",
    "    end = time.time()\n",
    "    print(f\"Insertion sort took {end - start} for an array of size {TEST_SIZE}\")\n",
    "\n",
    "\n"
   ]
  },
  {
   "cell_type": "code",
   "execution_count": 77,
   "metadata": {},
   "outputs": [
    {
     "name": "stdout",
     "output_type": "stream",
     "text": [
      "Insertion sort took 0.00026917457580566406 for an array of size 100\n",
      "Merge sort took 0.00014090538024902344 for an array of size 100\n",
      "Heap sort took 0.0003528594970703125 for an array of size 100\n",
      "Insertion sort took 9.298324584960938e-05 for an array of size 100\n"
     ]
    }
   ],
   "source": [
    "test_insertion_sort()\n",
    "test_merge_sort()\n",
    "test_heap_sort()\n",
    "test_quick_sort()"
   ]
  },
  {
   "cell_type": "code",
   "execution_count": null,
   "metadata": {},
   "outputs": [],
   "source": []
  }
 ],
 "metadata": {
  "kernelspec": {
   "display_name": "pyenv1",
   "language": "python",
   "name": "python3"
  },
  "language_info": {
   "codemirror_mode": {
    "name": "ipython",
    "version": 3
   },
   "file_extension": ".py",
   "mimetype": "text/x-python",
   "name": "python",
   "nbconvert_exporter": "python",
   "pygments_lexer": "ipython3",
   "version": "3.12.0"
  }
 },
 "nbformat": 4,
 "nbformat_minor": 2
}
